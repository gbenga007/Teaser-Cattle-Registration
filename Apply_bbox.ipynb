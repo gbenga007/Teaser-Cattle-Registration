{
 "cells": [
  {
   "cell_type": "code",
   "execution_count": 3,
   "id": "0a847025",
   "metadata": {},
   "outputs": [],
   "source": [
    "import numpy as np\n",
    "import copy\n",
    "import open3d as o3d\n",
    "import os\n",
    "import sys\n",
    "\n",
    "from numpy.linalg import inv\n",
    "\n",
    "# monkey patches visualization and provides helpers to load geometries\n",
    "sys.path.append('..')"
   ]
  },
  {
   "cell_type": "code",
   "execution_count": 5,
   "id": "f238ba4e",
   "metadata": {},
   "outputs": [],
   "source": [
    "def demo_crop_geometry():\n",
    "    print(\"Demo for manual geometry cropping\")\n",
    "    print(\n",
    "        \"1) Press 'Y' twice to align geometry with negative direction of y-axis\"\n",
    "    )\n",
    "    print(\"2) Press 'K' to lock screen and to switch to selection mode\")\n",
    "    print(\"3) Drag for rectangle selection,\")\n",
    "    print(\"   or use ctrl + left click for polygon selection\")\n",
    "    print(\"4) Press 'C' to get a selected geometry and to save it\")\n",
    "    print(\"5) Press 'F' to switch to freeview mode\")\n",
    "    pcd = o3d.io.read_point_cloud(\"../../test_data/ICP/cloud_bin_0.pcd\")\n",
    "    o3d.visualization.draw_geometries_with_editing([pcd])\n",
    "\n",
    "def draw_registration_color(source,target,transformation):\n",
    "    source_temp = copy.deepcopy(source)\n",
    "    target_temp = copy.deepcopy(target)\n",
    "    source_temp.transform(transformation)\n",
    "    o3d.visualization.draw_geometries([source_temp, target_temp])    \n",
    "\n",
    "def draw_registration_result(source, target, transformation):\n",
    "    source_temp = copy.deepcopy(source)\n",
    "    target_temp = copy.deepcopy(target)\n",
    "    source_temp.paint_uniform_color([1, 0.706, 0])\n",
    "    target_temp.paint_uniform_color([0, 0.651, 0.929])\n",
    "    source_temp.transform(transformation)\n",
    "    o3d.visualization.draw_geometries([source_temp, target_temp])\n",
    "    \n",
    "def pick_points(pcd, filename, fileid):\n",
    "    print(\"\")\n",
    "    print(\n",
    "        \"1) Please pick at least three correspondences using [shift + left click]\"\n",
    "    )\n",
    "    print(\"   Press [shift + right click] to undo point picking\")\n",
    "    print(\"2) After picking points, press 'Q' to close the window\")\n",
    "    vis = o3d.visualization.VisualizerWithEditing()\n",
    "    vis.create_window()\n",
    "    vis.add_geometry(pcd)\n",
    "    vis.run()  # user picks points\n",
    "    vis.capture_screen_image(\"results/%s_%d.png\" % (filename, fileid))    \n",
    "    vis.destroy_window()\n",
    "    print(\"\")\n",
    "    return vis.get_picked_points()"
   ]
  },
  {
   "cell_type": "code",
   "execution_count": 7,
   "id": "6c8c6c25",
   "metadata": {},
   "outputs": [],
   "source": [
    "def cow_crop(pcd, dim,center):\n",
    "    x_min = center[0] - 0.5*dim[0]\n",
    "    y_min = center[1] - 0.5*dim[1]\n",
    "    z_min = center[2] - 0.5*dim[2]\n",
    "\n",
    "    x_max = center[0] + 0.5*dim[0]\n",
    "    y_max = center[1] + 0.5*dim[1]\n",
    "    z_max = center[2] + 0.5*dim[2]\n",
    "\n",
    "    bbox = o3d.geometry.AxisAlignedBoundingBox(min_bound=(x_min,y_min,z_min), max_bound=(x_max,y_max,z_max))\n",
    "    cropped_ply = pcd.crop(bbox)\n",
    "    o3d.visualization.draw_geometries([cropped_ply])\n",
    "    return cropped_ply"
   ]
  },
  {
   "cell_type": "code",
   "execution_count": 37,
   "id": "a1028e7a",
   "metadata": {},
   "outputs": [],
   "source": [
    "source = o3d.io.read_point_cloud(\"/home/cornea/goowfd/Documents/new_cow_data/11/PCinPLY_08_20_2021/depthImg_0001.ply\")\n",
    "target = o3d.io.read_point_cloud(\"/home/cornea/goowfd/Documents/new_cow_data/12/PCinPLY_08_20_2021/depthImg_0001.ply\")\n",
    "draw_registration_result(source, source, np.identity(4))"
   ]
  },
  {
   "cell_type": "code",
   "execution_count": 52,
   "id": "15f64754",
   "metadata": {},
   "outputs": [],
   "source": [
    "box_11=[1.05552,2.3026,1.008]\n",
    "center_11=[-0.193823,-0.340330,1.255]\n",
    "#o3d.visualization.draw_geometries_with_editing([source])\n",
    "source_cr = cow_crop(source,box_11,center_11)\n",
    "\n",
    "\n",
    "\n",
    "#draw_registration_result(source_cr,source,np.eye(4))"
   ]
  },
  {
   "cell_type": "code",
   "execution_count": 97,
   "id": "a7c5c0cf",
   "metadata": {},
   "outputs": [],
   "source": [
    "box_11=[3.55552,1.7026,1.008]\n",
    "center_11=[-0.000093823,1.140330,0.5255]\n",
    "\n",
    "#o3d.visualization.draw_geometries([source])\n",
    "source_bar = cow_crop(source_cr,box_11,center_11)"
   ]
  },
  {
   "cell_type": "code",
   "execution_count": 108,
   "id": "341927e3",
   "metadata": {},
   "outputs": [
    {
     "name": "stdout",
     "output_type": "stream",
     "text": [
      "110708\n"
     ]
    }
   ],
   "source": [
    "dists = source_cr.compute_point_cloud_distance(source_bar)\n",
    "dists = np.asarray(dists)\n",
    "ind = np.where(dists)[0]\n",
    "print(dists.size)\n",
    "source_cr2 = source_cr.select_by_index(ind)\n",
    "o3d.visualization.draw_geometries([source_cr2])"
   ]
  },
  {
   "cell_type": "code",
   "execution_count": 117,
   "id": "ab43554a",
   "metadata": {},
   "outputs": [],
   "source": [
    "source2= o3d.io.read_point_cloud(\"/home/cornea/goowfd/Documents/new_cow_data/12/PCinPLY_08_20_2021/depthImg_0001.ply\")\n",
    "#o3d.visualization.draw_geometries([source2])\n",
    "\n",
    "box_12=[1.24794,1.24481,0.85]\n",
    "center_12=[-0.407762,-0.006689,1.101]\n",
    "\n",
    "source_cr2 = cow_crop(source2,box_12,center_12)\n"
   ]
  },
  {
   "cell_type": "code",
   "execution_count": 137,
   "id": "ebadd19f",
   "metadata": {},
   "outputs": [],
   "source": [
    "box_12=[1.55552,1.17026,3.008]\n",
    "center_12=[-0.000093823,-0.70140330,-0.655255]\n",
    "\n",
    "source_2bar = cow_crop(source_cr2,box_12,center_12)"
   ]
  },
  {
   "cell_type": "code",
   "execution_count": 138,
   "id": "4b1de34d",
   "metadata": {},
   "outputs": [
    {
     "name": "stdout",
     "output_type": "stream",
     "text": [
      "84191\n"
     ]
    }
   ],
   "source": [
    "dists = source_cr2.compute_point_cloud_distance(source_2bar)\n",
    "dists = np.asarray(dists)\n",
    "ind = np.where(dists)[0]\n",
    "print(dists.size)\n",
    "source_cr2bar = source_cr2.select_by_index(ind)\n",
    "o3d.visualization.draw_geometries([source_cr2bar])"
   ]
  },
  {
   "cell_type": "code",
   "execution_count": 154,
   "id": "eb5cc6d0",
   "metadata": {},
   "outputs": [],
   "source": [
    "source3= o3d.io.read_point_cloud(\"/home/cornea/goowfd/Documents/new_cow_data/13/PCinPLY_08_20_2021/depthImg_0001.ply\")\n",
    "box_13=[1.62464,1.35825,1.1054]\n",
    "center_13=[0.190396,0.188945,1.1406]\n",
    "source_cr3 = cow_crop(source3,box_13,center_13)"
   ]
  },
  {
   "cell_type": "code",
   "execution_count": 194,
   "id": "db431025",
   "metadata": {},
   "outputs": [],
   "source": [
    "box_13=[4.55552,1.10026,3.6008]\n",
    "center_13=[-0.000093823,0.90140330,-0.655255]\n",
    "\n",
    "source_3bar = cow_crop(source_cr3,box_13,center_13)"
   ]
  },
  {
   "cell_type": "code",
   "execution_count": 195,
   "id": "e71da28b",
   "metadata": {},
   "outputs": [
    {
     "name": "stdout",
     "output_type": "stream",
     "text": [
      "157270\n"
     ]
    }
   ],
   "source": [
    "dists = source_cr3.compute_point_cloud_distance(source_3bar)\n",
    "dists = np.asarray(dists)\n",
    "ind = np.where(dists)[0]\n",
    "print(dists.size)\n",
    "source_cr3bar = source_cr3.select_by_index(ind)\n",
    "o3d.visualization.draw_geometries([source_cr3bar])"
   ]
  },
  {
   "cell_type": "code",
   "execution_count": 204,
   "id": "179b13e0",
   "metadata": {},
   "outputs": [],
   "source": [
    "source4= o3d.io.read_point_cloud(\"/home/cornea/goowfd/Documents/new_cow_data/14/PCinPLY_08_20_2021/depthImg_0001.ply\")\n",
    "\n",
    "box_14 =[1.47061,1.4612,1.017]\n",
    "center_14 = [0.091901,-0.169477,1.3215]\n",
    "source_cr4 = cow_crop(source4,box_14,center_14)"
   ]
  }
 ],
 "metadata": {
  "kernelspec": {
   "display_name": "Python 3 (ipykernel)",
   "language": "python",
   "name": "python3"
  },
  "language_info": {
   "codemirror_mode": {
    "name": "ipython",
    "version": 3
   },
   "file_extension": ".py",
   "mimetype": "text/x-python",
   "name": "python",
   "nbconvert_exporter": "python",
   "pygments_lexer": "ipython3",
   "version": "3.8.12"
  }
 },
 "nbformat": 4,
 "nbformat_minor": 5
}
